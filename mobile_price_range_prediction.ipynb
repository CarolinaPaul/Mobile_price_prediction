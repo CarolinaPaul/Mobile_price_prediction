{
  "cells": [
    {
      "cell_type": "markdown",
      "metadata": {
        "id": "D3qbpsVKmLPG"
      },
      "source": [
        "**In the competitive mobile phone market companies want\n",
        "to understand sales data of mobile phones and factors which drive the prices.\n",
        "The objective is to find out some relation between features of a mobile phone(eg:- RAM,\n",
        "Internal Memory, etc) and its selling price. In this problem, we do not have to predict the\n",
        "actual price but a price range indicating how high the price is**\n"
      ]
    },
    {
      "cell_type": "markdown",
      "metadata": {
        "id": "rSzffjqVm9JS"
      },
      "source": [
        "**Data Description -**\n",
        "\n"
      ]
    },
    {
      "cell_type": "markdown",
      "metadata": {
        "id": "b5PRDS2nnNum"
      },
      "source": [
        "\n",
        "*  **Battery_power** - Total energy a battery can store in one time measured in mAh\n",
        "*   **Blue** - Has bluetooth or not\n",
        "*   **Clock_speed** - speed at which microprocessor executes instructions\n",
        "*   **Dual_sim** - Has dual sim support or not\n",
        "*   **Fc** - Front Camera mega pixels\n",
        "*  **Four_g** - Has 4G or not\n",
        "*  **Int_memory** - Internal Memory in Gigabytes\n",
        "*   **M_dep** - Mobile Depth in cm\n",
        "*   **Mobile_wt** - Weight of mobile phone\n",
        "*   **N_cores** - Number of cores of processor\n",
        "*   **Pc** - Primary Camera mega pixels\n",
        "*   **Px_height** - Pixel Resolution Height\n",
        "*   **Px_width** - Pixel Resolution Width\n",
        "*   **Ram** - Random Access Memory in Mega \n",
        "*   **Touch_screen** - Has touch screen or not\n",
        "*   **Wifi** - Has wifi or not\n",
        "*  **Sc_h** - Screen Height of mobile in cm\n",
        "*   **Sc_w** - Screen Width of mobile in cm\n",
        "*   **Talk_time** - longest time that a single battery charge will last when you are\n",
        "*   **Three_g** - Has 3G or not\n",
        "*   **Wifi** - Has wifi or not\n",
        "*  **Price_range** - This is the target variable with value of 0(low cost), 1(medium cost),\n",
        "2(high cost) and 3(very high cost).\n",
        "\n",
        "\n",
        "\n",
        "\n",
        "\n",
        "\n",
        "\n"
      ]
    },
    {
      "cell_type": "code",
      "execution_count": null,
      "metadata": {
        "id": "8MRNJxIQJRPF"
      },
      "outputs": [],
      "source": [
        "# importing  all necessary libraries\n",
        "\n",
        "import numpy as np\n",
        "import pandas as pd\n",
        "import matplotlib.pyplot as plt\n",
        "import seaborn as sns\n",
        "from sklearn.ensemble import RandomForestClassifier\n",
        "from sklearn.neighbors import KNeighborsClassifier\n",
        "from sklearn.tree import DecisionTreeClassifier\n",
        "from sklearn.pipeline import make_pipeline\n",
        "from sklearn.preprocessing import StandardScaler\n",
        "from sklearn.ensemble import StackingClassifier\n",
        "from sklearn.impute import SimpleImputer\n",
        "from sklearn.model_selection import cross_val_score\n",
        "from sklearn.model_selection import RepeatedStratifiedKFold\n",
        "from sklearn.model_selection import GridSearchCV\n",
        "\n",
        "import warnings\n",
        "warnings.filterwarnings(\"ignore\")"
      ]
    },
    {
      "cell_type": "code",
      "execution_count": null,
      "metadata": {
        "id": "-eRme0MBJYjQ"
      },
      "outputs": [],
      "source": [
        "# Mounting the drive\n",
        "\n",
        "from google.colab import drive\n",
        "drive.mount('/content/drive')"
      ]
    },
    {
      "cell_type": "code",
      "execution_count": null,
      "metadata": {
        "id": "lic2tTFsJYk1"
      },
      "outputs": [],
      "source": [
        "# Loading the dataset\n",
        "\n",
        "df = pd.read_csv('/content/drive/MyDrive/Module 3/data_mobile_price_range.csv')\n",
        "#Return the first 5 rows of the DataFrame\n",
        "df.head()\n"
      ]
    },
    {
      "cell_type": "code",
      "execution_count": null,
      "metadata": {
        "id": "pn_8cOQpJYoY"
      },
      "outputs": [],
      "source": [
        "df.columns"
      ]
    },
    {
      "cell_type": "code",
      "execution_count": null,
      "metadata": {
        "id": "M8Rna_BHMQZe"
      },
      "outputs": [],
      "source": [
        "len(df.columns)"
      ]
    },
    {
      "cell_type": "markdown",
      "metadata": {
        "id": "jCS_XYjzMTqN"
      },
      "source": [
        "There are 21 columns"
      ]
    },
    {
      "cell_type": "code",
      "execution_count": null,
      "metadata": {
        "id": "drtLJ_ajiNI4"
      },
      "outputs": [],
      "source": [
        "#bootom 5 rows\n",
        "df.tail()"
      ]
    },
    {
      "cell_type": "markdown",
      "metadata": {
        "id": "SQ3cghpEL1j8"
      },
      "source": [
        "# Data Analysis"
      ]
    },
    {
      "cell_type": "code",
      "execution_count": null,
      "metadata": {
        "id": "bKq54U7LJYqS"
      },
      "outputs": [],
      "source": [
        "# Data information\n",
        "df.info()"
      ]
    },
    {
      "cell_type": "code",
      "execution_count": null,
      "metadata": {
        "id": "im_NLVTYJYt4"
      },
      "outputs": [],
      "source": [
        "#Description of the data\n",
        "df.describe()\n",
        "df.describe().T # transpose"
      ]
    },
    {
      "cell_type": "markdown",
      "metadata": {
        "id": "IwsQLwBvNcet"
      },
      "source": [
        "minimum value of px_height and sc_w cannot be zero so we need to handle that"
      ]
    },
    {
      "cell_type": "code",
      "execution_count": null,
      "metadata": {
        "id": "SAf9qlzNJYw2"
      },
      "outputs": [],
      "source": [
        "# Total phones with sc_w = 0\n",
        "print(len(df[df.sc_w == 0]))\n",
        "# Total phones with px_height = 0\n",
        "print(len(df[df.px_height == 0]))"
      ]
    },
    {
      "cell_type": "code",
      "execution_count": null,
      "metadata": {
        "id": "Dj7dz0Y4JYzf"
      },
      "outputs": [],
      "source": [
        "#where ther is sc_W and px_height is zero ,assigning mean values\n",
        "df['sc_w'][df[df.sc_w == 0].index] = df.sc_w.mean()\n",
        "df['px_height'][df[df.px_height == 0].index] = df.px_height.mean()"
      ]
    },
    {
      "cell_type": "code",
      "execution_count": null,
      "metadata": {
        "id": "14g9J8viJY1s"
      },
      "outputs": [],
      "source": [
        "#checking whether there is duplicates or not\n",
        "len(df[df.duplicated()])"
      ]
    },
    {
      "cell_type": "markdown",
      "metadata": {
        "id": "qGfXHxpafMdu"
      },
      "source": [
        "there are no duplicate values\n"
      ]
    },
    {
      "cell_type": "code",
      "execution_count": null,
      "metadata": {
        "id": "OP04z5-FJY67"
      },
      "outputs": [],
      "source": [
        "#The nunique () method returns the number of unique values for each column\n",
        "df.nunique()"
      ]
    },
    {
      "cell_type": "code",
      "execution_count": null,
      "metadata": {
        "id": "jn4WEbljJY-L"
      },
      "outputs": [],
      "source": [
        "#checking whether there is null values or not\n",
        "df.isnull().sum()"
      ]
    },
    {
      "cell_type": "markdown",
      "metadata": {
        "id": "eWc6xT9_dnYq"
      },
      "source": [
        "there are no missing values in the data set"
      ]
    },
    {
      "cell_type": "markdown",
      "metadata": {
        "id": "t7i6K8dQb5v0"
      },
      "source": [
        "# Exploratory Data Analysis"
      ]
    },
    {
      "cell_type": "markdown",
      "metadata": {
        "id": "-AzkmmdWeGlX"
      },
      "source": [
        "**price**"
      ]
    },
    {
      "cell_type": "code",
      "execution_count": null,
      "metadata": {
        "id": "1-6x1jrnJZA6"
      },
      "outputs": [],
      "source": [
        "#classes\n",
        "sns.set()\n",
        "price_plot=df['price_range'].value_counts().plot(kind='bar')\n",
        "plt.xlabel('price_range')\n",
        "plt.ylabel('Count')\n",
        "plt.show()"
      ]
    },
    {
      "cell_type": "markdown",
      "metadata": {
        "id": "0UOwK-tMcDca"
      },
      "source": [
        "there are mobile phones in 4 price ranges. The number of elements is almost similar."
      ]
    },
    {
      "cell_type": "markdown",
      "metadata": {
        "id": "vLlZwwn-ePAL"
      },
      "source": [
        "**Battery power**"
      ]
    },
    {
      "cell_type": "code",
      "execution_count": null,
      "metadata": {
        "id": "xRlVDKb8JZEZ"
      },
      "outputs": [],
      "source": [
        "sns.set(rc={'figure.figsize':(5,5)})\n",
        "ax=sns.displot(df[\"battery_power\"])\n",
        "plt.show()"
      ]
    },
    {
      "cell_type": "markdown",
      "metadata": {
        "id": "Dr5R_hPCd-_h"
      },
      "source": [
        "this plot shows how the battery mAh is spread.\n",
        " there is a gradual increase as the price range increases"
      ]
    },
    {
      "cell_type": "markdown",
      "metadata": {
        "id": "3Fqdz88CgQD1"
      },
      "source": [
        "**Bluetooth**"
      ]
    },
    {
      "cell_type": "code",
      "execution_count": null,
      "metadata": {
        "id": "sBrzJrkIfSPs"
      },
      "outputs": [],
      "source": [
        "#anlysis of data by vizualisation\n",
        "fig,ax=plt.subplots(figsize=(10,5))\n",
        "sns.barplot(data=df,x='blue',y='price_range',ax=ax)"
      ]
    },
    {
      "cell_type": "markdown",
      "metadata": {
        "id": "sKCpTm_4gXWy"
      },
      "source": [
        " half the devices have Bluetooth, and half don’t."
      ]
    },
    {
      "cell_type": "markdown",
      "metadata": {
        "id": "y69yws5WlXkb"
      },
      "source": [
        "**ram**"
      ]
    },
    {
      "cell_type": "code",
      "execution_count": null,
      "metadata": {
        "id": "fgV_cEnufSS9"
      },
      "outputs": [],
      "source": [
        "\n",
        "df.plot(x='price_range',y='ram',kind='scatter')\n",
        "plt.show()"
      ]
    },
    {
      "cell_type": "markdown",
      "metadata": {
        "id": "lCtwwCBalspU"
      },
      "source": [
        "Ram has continuous increase with price range while moving from Low cost to Very high cost"
      ]
    },
    {
      "cell_type": "markdown",
      "metadata": {
        "id": "AXnDQWvOpL_f"
      },
      "source": [
        "**pixel_width**"
      ]
    },
    {
      "cell_type": "code",
      "execution_count": null,
      "metadata": {
        "id": "nYyLIv11nKgK"
      },
      "outputs": [],
      "source": [
        "fig, axs = plt.subplots(1,2, figsize=(15,5))\n",
        "sns.kdeplot(data=df, x='px_width', hue='price_range', ax=axs[0])\n",
        "sns.boxplot(data=df, x='price_range', y='px_width', ax=axs[1])\n",
        "plt.show()"
      ]
    },
    {
      "cell_type": "markdown",
      "metadata": {
        "id": "eR1ovnR2sGj0"
      },
      "source": [
        "There is not a continuous increase in pixel width as we move from Low cost to Very high cost. Mobiles with 'Medium cost' and 'High cost' has almost equal pixel width.\n",
        "so we can say that it would be a driving factor in deciding price_range.\n"
      ]
    },
    {
      "cell_type": "code",
      "execution_count": null,
      "metadata": {
        "id": "7GBKLAN6nLV4"
      },
      "outputs": [],
      "source": [
        "fig, axs = plt.subplots(1,2, figsize=(15,5))\n",
        "sns.kdeplot(data=df, x='px_height', hue='price_range', ax=axs[0])\n",
        "sns.boxplot(data=df, x='price_range', y='px_height', ax=axs[1])\n",
        "plt.show()"
      ]
    },
    {
      "cell_type": "markdown",
      "metadata": {
        "id": "LOWuIXV7roCt"
      },
      "source": [
        "Pixel height is almost similar as we move from Low cost to Very high cost.little variation in pixel_height"
      ]
    },
    {
      "cell_type": "markdown",
      "metadata": {
        "id": "-ZU5PpP_u5HU"
      },
      "source": [
        "**FC (front camera megapixels)**"
      ]
    },
    {
      "cell_type": "code",
      "execution_count": null,
      "metadata": {
        "id": "pJfoisBgsmId"
      },
      "outputs": [],
      "source": [
        "df.plot(x='price_range',y='fc',kind='scatter')\n",
        "plt.show()"
      ]
    },
    {
      "cell_type": "markdown",
      "metadata": {
        "id": "UkgV_UH-uJTZ"
      },
      "source": [
        "This features distribution is almost similar along all the price ranges variable, it may not be helpful in making predictions"
      ]
    },
    {
      "cell_type": "markdown",
      "metadata": {
        "id": "CQPWprYMvfMZ"
      },
      "source": [
        "**PC (Primary camera Megapixels)**"
      ]
    },
    {
      "cell_type": "code",
      "execution_count": null,
      "metadata": {
        "id": "yfOAMfIcsmMg"
      },
      "outputs": [],
      "source": [
        "fig, axs = plt.subplots(1,2, figsize=(15,5))\n",
        "sns.kdeplot(data=df, x='n_cores', hue='price_range', ax=axs[0])\n",
        "sns.boxplot(data=df, x='price_range', y='n_cores', ax=axs[1])\n",
        "plt.show()"
      ]
    },
    {
      "cell_type": "markdown",
      "metadata": {
        "id": "nL7J-hMruUvn"
      },
      "source": [
        "Primary camera megapixels are showing a little variation along the target categories, which is a good sign for prediction.\n",
        "\n"
      ]
    },
    {
      "cell_type": "markdown",
      "metadata": {
        "id": "aM75l-lNxd7s"
      },
      "source": [
        "**mobile weight**"
      ]
    },
    {
      "cell_type": "code",
      "execution_count": null,
      "metadata": {
        "id": "If1CddbRsmP1"
      },
      "outputs": [],
      "source": [
        "fig, axs = plt.subplots(1,2, figsize=(15,5))\n",
        "sns.kdeplot(data=df, x='mobile_wt', hue='price_range', ax=axs[0])\n",
        "sns.boxplot(data=df, x='price_range', y='mobile_wt', ax=axs[1])\n",
        "plt.show()"
      ]
    },
    {
      "cell_type": "markdown",
      "metadata": {
        "id": "Qf845KM3x9sq"
      },
      "source": [
        "costly phones are lighter"
      ]
    },
    {
      "cell_type": "markdown",
      "metadata": {
        "id": "pUgzH-tv3gBK"
      },
      "source": [
        "**screen_size**"
      ]
    },
    {
      "cell_type": "markdown",
      "metadata": {
        "id": "Ec3bLDRM33CH"
      },
      "source": [
        "Let's convert screen_size from cm to inches, since in real life we use inches to tell a screen size."
      ]
    },
    {
      "cell_type": "code",
      "execution_count": null,
      "metadata": {
        "id": "x_lguJZB3ub2"
      },
      "outputs": [],
      "source": [
        "# Defining new variable sc_size\n",
        "\n",
        "df['sc_size'] = np.sqrt((df['sc_h']**2) + (df['sc_w']**2))\n",
        "df['sc_size'] = round(df['sc_size']/2.54, 2)"
      ]
    },
    {
      "cell_type": "code",
      "execution_count": null,
      "metadata": {
        "id": "HJuK0iIh3c-q"
      },
      "outputs": [],
      "source": [
        "fig, axs = plt.subplots(1,2, figsize=(15,5))\n",
        "sns.kdeplot(data=df, x='sc_size', hue='price_range', ax=axs[0])\n",
        "sns.boxplot(data=df, x='price_range', y='sc_size', ax=axs[1])\n",
        "plt.show()\n"
      ]
    },
    {
      "cell_type": "markdown",
      "metadata": {
        "id": "5Qfg-LlV4FW_"
      },
      "source": [
        "Screen Size shows little variation along the target variables. This can be helpful in predicting the target categories."
      ]
    },
    {
      "cell_type": "code",
      "execution_count": null,
      "metadata": {
        "id": "eCST7zxFzigg"
      },
      "outputs": [],
      "source": [
        "# Let's drop sc_h and s_w\n",
        "\n",
        "df.drop(['sc_h', 'sc_w'], axis = 1, inplace = True)"
      ]
    },
    {
      "cell_type": "code",
      "execution_count": null,
      "metadata": {
        "id": "OsGK8P6azXti"
      },
      "outputs": [],
      "source": [
        "binary_features = [ 'four_g', 'three_g']\n"
      ]
    },
    {
      "cell_type": "code",
      "execution_count": null,
      "metadata": {
        "id": "ooLDNBsQsmSn"
      },
      "outputs": [],
      "source": [
        "# Plot of binary features against price range\n",
        "\n",
        "for col in binary_features:\n",
        "  fig, (ax1, ax2) = plt.subplots(ncols = 2, figsize = (15, 6))\n",
        "\n",
        "  df[col].value_counts().plot.pie (autopct='%1.1f%%', ax = ax1, shadow=True, labeldistance=None)\n",
        "  ax1.set_title('Distribution by price range')\n",
        "  ax1.legend(['Support', 'Does not Support'])\n",
        "  sns.countplot(x = col, hue = 'price_range', data = df, ax = ax2, color = 'pink')\n",
        "  ax2.set_title('Distribution by price range')\n",
        "  ax2.set_xlabel(col)\n",
        "  ax2.legend(['Low Cost', 'Medium Cost', 'High Cost', 'Very High Cost'])\n",
        "  ax2.set_xticklabels(['Does not Support', 'Support'])"
      ]
    },
    {
      "cell_type": "markdown",
      "metadata": {
        "id": "uQ-hReDaz4-8"
      },
      "source": [
        "feature 'three_g' play an important feature in prediction"
      ]
    },
    {
      "cell_type": "code",
      "execution_count": null,
      "metadata": {
        "id": "425p_rug0YDa"
      },
      "outputs": [],
      "source": [
        "# Checking for multi-collinearity\n",
        "\n",
        "correlation = df.corr()\n",
        "plt.figure(figsize = [20, 15])\n",
        "sns.heatmap(correlation, cmap = 'coolwarm', annot = True)"
      ]
    },
    {
      "cell_type": "markdown",
      "metadata": {
        "id": "OrVvNj311nL_"
      },
      "source": [
        "RAM and price_range shows high correlation which is a good sign, it signifies \n",
        "that RAM will play major deciding factor in estimating the price range.\n",
        "\n",
        "There is some collinearity in feature pairs ('pc', 'fc') and ('px_width', 'px_height'). Both correlations are justified since there are good chances that if front camera of a phone is good, the back camera would also be good.\n",
        "\n",
        "Also, if px_height increases, pixel width also increases, that means the overall pixels in the screen. We can replace these two features with one feature.\n",
        "Front Camera megapixels and Primary camera megapixels are different entities despite of showing colinearity. So we'll be keeping them as they are."
      ]
    },
    {
      "cell_type": "code",
      "execution_count": null,
      "metadata": {
        "id": "hqqhPnGK1uq1"
      },
      "outputs": [],
      "source": [
        "#  defining new variable for pixels\n",
        "\n",
        "df['pixels'] = df['px_height']*df['px_width']\n",
        "# Dropping px_height and px_width\n",
        "\n",
        "df.drop(['px_height', 'px_width'], axis = 1, inplace = True)\n",
        "# Checking for multi-collinearity\n",
        "\n",
        "correlation = df.corr()\n",
        "plt.figure(figsize = [20, 15])\n",
        "sns.heatmap(correlation, cmap = 'coolwarm', annot = True)"
      ]
    },
    {
      "cell_type": "code",
      "execution_count": null,
      "metadata": {
        "id": "dxi6r8ejfSVX"
      },
      "outputs": [],
      "source": [
        "# looking for outliers using box plot\n",
        "plt.figure(figsize=(25,10))\n",
        "for index,item in enumerate([i for i in df.describe().columns.to_list()] ):\n",
        "  plt.subplot(5,5,index+1)\n",
        "  sns.boxplot(df[item])\n",
        "print(\"\\n\")"
      ]
    },
    {
      "cell_type": "markdown",
      "metadata": {
        "id": "6fRH9FIyj0Oa"
      },
      "source": [
        "there are no much outliers"
      ]
    },
    {
      "cell_type": "code",
      "execution_count": null,
      "metadata": {
        "id": "k4BAkXbrhIhO"
      },
      "outputs": [],
      "source": [
        "# Defining X and y\n",
        "\n",
        "X = df.drop(['price_range'], axis = 1)\n",
        "y = df['price_range']"
      ]
    },
    {
      "cell_type": "code",
      "execution_count": null,
      "metadata": {
        "id": "ecX5rE-GhIjZ"
      },
      "outputs": [],
      "source": [
        "X.shape"
      ]
    },
    {
      "cell_type": "code",
      "execution_count": null,
      "metadata": {
        "id": "2y1c5jJThInF"
      },
      "outputs": [],
      "source": [
        "y.shape"
      ]
    },
    {
      "cell_type": "code",
      "execution_count": null,
      "metadata": {
        "id": "wSkUwjmAhIrV"
      },
      "outputs": [],
      "source": [
        "# Scaling values of X\n",
        "\n",
        "from sklearn.preprocessing import MinMaxScaler\n",
        "scaler = MinMaxScaler()\n",
        "X_scaled = scaler.fit_transform(X)"
      ]
    },
    {
      "cell_type": "code",
      "execution_count": null,
      "metadata": {
        "id": "Q_gkAptDhIuW"
      },
      "outputs": [],
      "source": [
        "# Splitting dataset into train and test sets\n",
        "\n",
        "from sklearn.model_selection import train_test_split\n",
        "X_train, X_test, y_train, y_test = train_test_split(X_scaled, y, test_size = 0.20, random_state = 42)"
      ]
    },
    {
      "cell_type": "code",
      "execution_count": null,
      "metadata": {
        "id": "-5_vjRWqgJoT"
      },
      "outputs": [],
      "source": [
        "X_train.shape"
      ]
    },
    {
      "cell_type": "code",
      "execution_count": null,
      "metadata": {
        "id": "TOF53s0qgJsD"
      },
      "outputs": [],
      "source": [
        "y_train.shape"
      ]
    },
    {
      "cell_type": "markdown",
      "metadata": {
        "id": "P9-YN_m43Avn"
      },
      "source": [
        "# Logistic Regression"
      ]
    },
    {
      "cell_type": "code",
      "execution_count": null,
      "metadata": {
        "id": "o6CowwAS3GAc"
      },
      "outputs": [],
      "source": [
        "# Applying logistic regression\n",
        "\n",
        "from sklearn.linear_model import LogisticRegression\n",
        "lr = LogisticRegression()\n",
        "lr.fit(X_train, y_train)\n",
        "\n",
        "\n",
        "\n"
      ]
    },
    {
      "cell_type": "code",
      "execution_count": null,
      "metadata": {
        "id": "P5hqj9CL3GMS"
      },
      "outputs": [],
      "source": [
        "# Prediction\n",
        "\n",
        "y_pred_test = lr.predict(X_test)\n",
        "y_pred_train = lr.predict(X_train)\n",
        "# Evaluation metrics for test"
      ]
    },
    {
      "cell_type": "code",
      "execution_count": null,
      "metadata": {
        "id": "K9CtxcNT3GPX"
      },
      "outputs": [],
      "source": [
        "from sklearn.metrics import classification_report\n",
        "print('Classification report for Logistic Regression (Test set)= ')\n",
        "print(classification_report(y_pred_test, y_test))"
      ]
    },
    {
      "cell_type": "code",
      "execution_count": null,
      "metadata": {
        "id": "XTl6aQb6vSDb"
      },
      "outputs": [],
      "source": [
        "import seaborn as sns\n",
        "from sklearn.metrics import confusion_matrix\n",
        "\n",
        "#Generate the confusion matrix\n",
        "cf_matrix = confusion_matrix(y_test, y_pred_test)\n",
        "\n",
        "print(cf_matrix)\n",
        "\n",
        "ax = sns.heatmap(cf_matrix, annot=True, cmap='Blues')\n",
        "\n",
        "ax.set_title('Seaborn Confusion Matrix with labels\\n\\n');\n",
        "ax.set_xlabel('\\nPredicted Values')\n",
        "ax.set_ylabel('Actual Values ');\n",
        "\n",
        "## Ticket labels - List must be in alphabetical order\n",
        "ax.xaxis.set_ticklabels([0,1,2,3])\n",
        "ax.yaxis.set_ticklabels([0,1,2,3])\n",
        "\n",
        "## Display the visualization of the Confusion Matrix.\n",
        "plt.show()"
      ]
    },
    {
      "cell_type": "code",
      "execution_count": null,
      "metadata": {
        "id": "vcZ1WUVG3GZf"
      },
      "outputs": [],
      "source": [
        "# Evaluation metrics for train\n",
        "\n",
        "from sklearn.metrics import classification_report\n",
        "print('Classification report for Logistic Regression (Train set)= ')\n",
        "print( classification_report(y_pred_train, y_train))"
      ]
    },
    {
      "cell_type": "markdown",
      "metadata": {
        "id": "Dd9VedL0t0ak"
      },
      "source": [
        "# Random Forest"
      ]
    },
    {
      "cell_type": "code",
      "execution_count": null,
      "metadata": {
        "id": "rpLck5oWuKPx"
      },
      "outputs": [],
      "source": [
        "\n",
        "from sklearn.metrics import accuracy_score, classification_report\n",
        "from sklearn.tree import DecisionTreeClassifier\n",
        "from sklearn.ensemble import RandomForestClassifier"
      ]
    },
    {
      "cell_type": "code",
      "execution_count": null,
      "metadata": {
        "id": "I5VgXRdKgJw2"
      },
      "outputs": [],
      "source": [
        "\n",
        "from sklearn.ensemble import RandomForestClassifier\n",
        "# taking 300 trees\n",
        "clsr = RandomForestClassifier(n_estimators=300)\n",
        "clsr.fit(X_train, y_train)"
      ]
    },
    {
      "cell_type": "code",
      "execution_count": null,
      "metadata": {
        "id": "k-KFSbe1gJzQ"
      },
      "outputs": [],
      "source": [
        "y_pred = clsr.predict(X_test)\n",
        "test_score= accuracy_score(y_test, y_pred)\n",
        "test_score"
      ]
    },
    {
      "cell_type": "code",
      "execution_count": null,
      "metadata": {
        "id": "QD81Mnq0teLE"
      },
      "outputs": [],
      "source": [
        "y_pred_train = clsr.predict(X_train)\n",
        "train_score = accuracy_score(y_train, y_pred_train)\n",
        "train_score"
      ]
    },
    {
      "cell_type": "code",
      "execution_count": null,
      "metadata": {
        "id": "8hP9SzBmgJ2K"
      },
      "outputs": [],
      "source": [
        "print(classification_report(y_test, y_pred))"
      ]
    },
    {
      "cell_type": "code",
      "execution_count": null,
      "metadata": {
        "id": "jX75r7iVwdut"
      },
      "outputs": [],
      "source": [
        "import seaborn as sns\n",
        "from sklearn.metrics import confusion_matrix\n",
        "\n",
        "#Generate the confusion matrix\n",
        "cf_matrix = confusion_matrix(y_test, y_pred)\n",
        "\n",
        "print(cf_matrix)\n",
        "\n",
        "ax = sns.heatmap(cf_matrix, annot=True, cmap='Blues')\n",
        "\n",
        "ax.set_title('Seaborn Confusion Matrix with labels\\n\\n');\n",
        "ax.set_xlabel('\\nPredicted Values')\n",
        "ax.set_ylabel('Actual Values ');\n",
        "\n",
        "## Ticket labels - List must be in alphabetical order\n",
        "ax.xaxis.set_ticklabels([0,1,2,3])\n",
        "ax.yaxis.set_ticklabels([0,1,2,3])\n",
        "\n",
        "## Display the visualization of the Confusion Matrix.\n",
        "plt.show()"
      ]
    },
    {
      "cell_type": "code",
      "execution_count": null,
      "metadata": {
        "id": "G5bL_Ph_gJ5q"
      },
      "outputs": [],
      "source": [
        "feature_importance = pd.DataFrame({'Feature':X.columns,\n",
        "                                   'Score':clsr.feature_importances_}).sort_values(by='Score', ascending=False).reset_index(drop=True)\n",
        "feature_importance.head()"
      ]
    },
    {
      "cell_type": "code",
      "execution_count": null,
      "metadata": {
        "id": "VTSbpbEtt_No"
      },
      "outputs": [],
      "source": [
        "fig, ax = plt.subplots(figsize=(15,8))\n",
        "ax = sns.barplot(x=feature_importance['Score'], y=feature_importance['Feature'])\n",
        "plt.show()"
      ]
    },
    {
      "cell_type": "markdown",
      "metadata": {
        "id": "EIak52_Ruzkk"
      },
      "source": [
        "**Hyperparameter tuning for Random Forest**\n"
      ]
    },
    {
      "cell_type": "code",
      "execution_count": null,
      "metadata": {
        "id": "08slOgBqt_RQ"
      },
      "outputs": [],
      "source": [
        "from sklearn.model_selection import GridSearchCV\n",
        "params = {'n_estimators':[10,50,100,200],\n",
        "          'max_depth':[10,20,30,40],\n",
        "           'min_samples_split':[2,4,6],\n",
        "          'max_features':['sqrt',4,'log2','auto'],\n",
        "          'max_leaf_nodes':[10, 20, 40]\n",
        "          }\n",
        "rf = RandomForestClassifier()\n",
        "clsr = GridSearchCV(rf, params, scoring='accuracy', cv=3)\n",
        "clsr.fit(X, y)"
      ]
    },
    {
      "cell_type": "code",
      "execution_count": null,
      "metadata": {
        "id": "KIXD7l5Wt_Vd"
      },
      "outputs": [],
      "source": [
        "clsr.best_params_"
      ]
    },
    {
      "cell_type": "code",
      "execution_count": null,
      "metadata": {
        "id": "Ga8ihBp0vJPI"
      },
      "outputs": [],
      "source": [
        "clsr.best_estimator_"
      ]
    },
    {
      "cell_type": "code",
      "execution_count": null,
      "metadata": {
        "id": "4BZCF4aDvJRb"
      },
      "outputs": [],
      "source": [
        "clsr.best_score_"
      ]
    },
    {
      "cell_type": "code",
      "execution_count": null,
      "metadata": {
        "id": "WtiFfeRlvJVF"
      },
      "outputs": [],
      "source": [
        "X_train, X_test, y_train, y_test = train_test_split(X, y, test_size=0.20, random_state=42)\n",
        "clsr = RandomForestClassifier(bootstrap=True, ccp_alpha=0.0, class_weight=None,\n",
        "                       criterion='gini', max_depth=30, max_features='log2',\n",
        "                       max_leaf_nodes=40, max_samples=None,\n",
        "                       min_impurity_decrease=0.0,\n",
        "                       min_samples_leaf=1, min_samples_split=4,\n",
        "                       min_weight_fraction_leaf=0.0, n_estimators=200,\n",
        "                       n_jobs=None, oob_score=False, random_state=None,\n",
        "                       verbose=0, warm_start=False)\n",
        "clsr.fit(X_train, y_train)"
      ]
    },
    {
      "cell_type": "code",
      "execution_count": null,
      "metadata": {
        "id": "QKhcinX6vJYA"
      },
      "outputs": [],
      "source": [
        "y_pred = clsr.predict(X_test)\n",
        "accuracy_score(y_test, y_pred)"
      ]
    },
    {
      "cell_type": "code",
      "execution_count": null,
      "metadata": {
        "id": "2-_SpoqDxNwo"
      },
      "outputs": [],
      "source": [
        "print(classification_report(y_test, y_pred))"
      ]
    },
    {
      "cell_type": "code",
      "execution_count": null,
      "metadata": {
        "id": "3jffzYOgxNws"
      },
      "outputs": [],
      "source": [
        "import seaborn as sns\n",
        "from sklearn.metrics import confusion_matrix\n",
        "\n",
        "#Generate the confusion matrix\n",
        "cf_matrix = confusion_matrix(y_test, y_pred)\n",
        "\n",
        "print(cf_matrix)\n",
        "\n",
        "ax = sns.heatmap(cf_matrix, annot=True, cmap='Blues')\n",
        "\n",
        "ax.set_title('Seaborn Confusion Matrix with labels\\n\\n');\n",
        "ax.set_xlabel('\\nPredicted Values')\n",
        "ax.set_ylabel('Actual Values ');\n",
        "\n",
        "## Ticket labels - List must be in alphabetical order\n",
        "ax.xaxis.set_ticklabels([0,1,2,3])\n",
        "ax.yaxis.set_ticklabels([0,1,2,3])\n",
        "\n",
        "## Display the visualization of the Confusion Matrix.\n",
        "plt.show()"
      ]
    },
    {
      "cell_type": "code",
      "execution_count": null,
      "metadata": {
        "id": "B9LgsvBF9y3q"
      },
      "outputs": [],
      "source": [
        "y_pred = clsr.predict(X_train)\n",
        "accuracy_score(y_train, y_pred)"
      ]
    },
    {
      "cell_type": "code",
      "execution_count": null,
      "metadata": {
        "id": "oLVPTAlD-ETn"
      },
      "outputs": [],
      "source": [
        "print(classification_report(y_train, y_pred))"
      ]
    },
    {
      "cell_type": "code",
      "execution_count": null,
      "metadata": {
        "id": "tWXKpobcxUrs"
      },
      "outputs": [],
      "source": [
        "feature_importance = pd.DataFrame({'Feature':X.columns,\n",
        "                                   'Score':clsr.feature_importances_}).sort_values(by='Score', ascending=False).reset_index(drop=True)\n",
        "feature_importance.head()"
      ]
    },
    {
      "cell_type": "code",
      "execution_count": null,
      "metadata": {
        "id": "Nnzmf83kxUrt"
      },
      "outputs": [],
      "source": [
        "fig, ax = plt.subplots(figsize=(15,8))\n",
        "ax = sns.barplot(x=feature_importance['Score'], y=feature_importance['Feature'])\n",
        "plt.show()"
      ]
    },
    {
      "cell_type": "markdown",
      "metadata": {
        "id": "mQhqZ4K70PTC"
      },
      "source": [
        "# Decision tree "
      ]
    },
    {
      "cell_type": "code",
      "execution_count": null,
      "metadata": {
        "id": "YYHAehUZ0RmI"
      },
      "outputs": [],
      "source": [
        "# Applying Decision Tree\n",
        "\n",
        "from sklearn.tree import DecisionTreeClassifier\n",
        "\n",
        "dtc = DecisionTreeClassifier(max_depth = 5)\n",
        "dtc.fit(X_train, y_train)"
      ]
    },
    {
      "cell_type": "code",
      "execution_count": null,
      "metadata": {
        "id": "4x2DMvY30Roi"
      },
      "outputs": [],
      "source": [
        "# Prediction\n",
        "\n",
        "y_pred_test = dtc.predict(X_test)\n",
        "y_pred_train = dtc.predict(X_train)"
      ]
    },
    {
      "cell_type": "code",
      "execution_count": null,
      "metadata": {
        "id": "N9TqGnNU_dgQ"
      },
      "outputs": [],
      "source": [
        "\n",
        "accuracy_score(y_test, y_pred_test)"
      ]
    },
    {
      "cell_type": "code",
      "execution_count": null,
      "metadata": {
        "id": "wG6rkWYg0RsT"
      },
      "outputs": [],
      "source": [
        "# Evaluation metrics for test\n",
        "\n",
        "print('Classification report for Decision Tree (Test set)= ')\n",
        "print(classification_report(y_pred_test, y_test))"
      ]
    },
    {
      "cell_type": "code",
      "execution_count": null,
      "metadata": {
        "id": "khfgUnut0Rx7"
      },
      "outputs": [],
      "source": [
        "# Cross validation\n",
        "\n",
        "from sklearn.model_selection import GridSearchCV\n",
        "grid = GridSearchCV(dtc, param_grid = {'max_depth': (5, 30), 'max_leaf_nodes': (10, 100)}, scoring = 'accuracy', cv = 5, verbose = 24)\n",
        "grid.fit(X_train, y_train)"
      ]
    },
    {
      "cell_type": "code",
      "execution_count": null,
      "metadata": {
        "id": "rgc3tGvjt_ZG"
      },
      "outputs": [],
      "source": [
        "# Prediction\n",
        "\n",
        "y_pred_test = grid.predict(X_test)\n",
        "y_pres_train = grid.predict(X_train)\n",
        "# Evaluation metrics for test\n",
        "\n",
        "print('Classification Report for Decision Tree (Test set)= ')\n",
        "print(classification_report(y_test, y_pred_test))"
      ]
    },
    {
      "cell_type": "code",
      "execution_count": null,
      "metadata": {
        "id": "Q6Lc-M29vqva"
      },
      "outputs": [],
      "source": [
        "import seaborn as sns\n",
        "from sklearn.metrics import confusion_matrix\n",
        "\n",
        "#Generate the confusion matrix\n",
        "cf_matrix = confusion_matrix(y_test, y_pred_test)\n",
        "\n",
        "print(cf_matrix)\n",
        "\n",
        "ax = sns.heatmap(cf_matrix, annot=True, cmap='Blues')\n",
        "\n",
        "ax.set_title('Seaborn Confusion Matrix with labels\\n\\n');\n",
        "ax.set_xlabel('\\nPredicted Values')\n",
        "ax.set_ylabel('Actual Values ');\n",
        "\n",
        "## Ticket labels - List must be in alphabetical order\n",
        "ax.xaxis.set_ticklabels([0,1,2,3])\n",
        "ax.yaxis.set_ticklabels([0,1,2,3])\n",
        "\n",
        "## Display the visualization of the Confusion Matrix.\n",
        "plt.show()"
      ]
    },
    {
      "cell_type": "code",
      "execution_count": null,
      "metadata": {
        "id": "QZvW5o9t7rDe"
      },
      "outputs": [],
      "source": [
        "# Evaluation metrics for train\n",
        "\n",
        "print('Classification Report for Decision Tree (Train set)= ')\n",
        "print(classification_report(y_train, y_pred_train))"
      ]
    },
    {
      "cell_type": "markdown",
      "metadata": {
        "id": "G1AidktvA6Vr"
      },
      "source": [
        "# xgboost\n"
      ]
    },
    {
      "cell_type": "code",
      "execution_count": null,
      "metadata": {
        "id": "sV9p6gaE7rJR"
      },
      "outputs": [],
      "source": [
        "# Applying XGBoost\n",
        "\n",
        "from xgboost import XGBClassifier\n",
        "\n",
        "xgb = XGBClassifier(max_depth = 5, learning_rate = 0.1)\n",
        "xgb.fit(X_train, y_train)\n",
        "XGBClassifier(max_depth=5, objective='multi:softprob')\n",
        "# Prediction\n",
        "\n",
        "y_pred_train = xgb.predict(X_train)\n",
        "y_pred_test = xgb.predict(X_test)\n",
        "# Evaluation metrics for test\n",
        "\n",
        "score = classification_report(y_test, y_pred_test)\n",
        "print('Classification Report for XGBoost(Test set)= ')\n",
        "print(score)"
      ]
    },
    {
      "cell_type": "code",
      "execution_count": null,
      "metadata": {
        "id": "GpXSdZOfBGQH"
      },
      "outputs": [],
      "source": [
        "# Evaluation metrics for train\n",
        "\n",
        "score = classification_report(y_train, y_pred_train)\n",
        "print('Classification Report for XGBoost(Train set)= ')\n",
        "print(score)"
      ]
    },
    {
      "cell_type": "code",
      "execution_count": null,
      "metadata": {
        "id": "-Nplae0WBGTf"
      },
      "outputs": [],
      "source": [
        "# Cross validation\n",
        "\n",
        "grid = GridSearchCV(xgb, param_grid={'n_estimators': (10, 200), 'learning_rate': [1, 0.5, 0.1, 0.01, 0.001], 'max_depth': (5, 10),\n",
        "                                     'gamma': [1.5, 1.8], 'subsample': [0.3, 0.5, 0.8]}, cv = 5, scoring = 'accuracy', verbose = 10)\n",
        "grid.fit(X_train,y_train)"
      ]
    },
    {
      "cell_type": "code",
      "execution_count": null,
      "metadata": {
        "id": "GRBzvdF3BGXW"
      },
      "outputs": [],
      "source": [
        "# Prediction\n",
        "\n",
        "y_pred_train = grid.predict(X_train)\n",
        "y_pred_test = grid.predict(X_test)\n",
        "# Evaluation metrics for test\n",
        "\n",
        "score = classification_report(y_test, y_pred_test)\n",
        "print('Classification Report for tuned XGBoost(Test set)= ')\n",
        "print(score)"
      ]
    },
    {
      "cell_type": "code",
      "execution_count": null,
      "metadata": {
        "id": "FtPPQZnZwffj"
      },
      "outputs": [],
      "source": [
        "import seaborn as sns\n",
        "from sklearn.metrics import confusion_matrix\n",
        "\n",
        "#Generate the confusion matrix\n",
        "cf_matrix = confusion_matrix(y_test, y_pred_test)\n",
        "\n",
        "print(cf_matrix)\n",
        "\n",
        "ax = sns.heatmap(cf_matrix, annot=True, cmap='Blues')\n",
        "\n",
        "ax.set_title('Seaborn Confusion Matrix with labels\\n\\n');\n",
        "ax.set_xlabel('\\nPredicted Values')\n",
        "ax.set_ylabel('Actual Values ');\n",
        "\n",
        "## Ticket labels - List must be in alphabetical order\n",
        "ax.xaxis.set_ticklabels([0,1,2,3])\n",
        "ax.yaxis.set_ticklabels([0,1,2,3])\n",
        "\n",
        "## Display the visualization of the Confusion Matrix.\n",
        "plt.show()"
      ]
    },
    {
      "cell_type": "code",
      "execution_count": null,
      "metadata": {
        "id": "CgyEfgFkBGba"
      },
      "outputs": [],
      "source": [
        "# Evaluation metrics for train\n",
        "\n",
        "score = classification_report(y_train, y_pred_train)\n",
        "print('Classification Report for tuned XGBoost(Train set)= ')\n",
        "print(score)"
      ]
    },
    {
      "cell_type": "markdown",
      "metadata": {
        "id": "6A84Ss8c6QSH"
      },
      "source": [
        "# Conclusion"
      ]
    },
    {
      "cell_type": "markdown",
      "metadata": {
        "id": "IwfqPGEq6WLV"
      },
      "source": [
        "\n",
        "\n",
        "1.  From EDA we can see that here are mobile phones in 4 price ranges. The    number of elements is almost similar. \n",
        "2.  half the devices have Bluetooth, and half don’t\n",
        "3.   there is a gradual increase in battery as the price range increases\n",
        "4.   Ram has continuous increase with price range while moving from Low cost to Very high cost\n",
        "5.   costly phones are lighter\n",
        "6.   RAM, battery power, pixels played more significant role in deciding the price range of mobile phone. \n",
        "7.   form all the above experiments we can conclude that logistic regression and, XGboosting with using hyperparameters we got the best results\n",
        "\n",
        "\n",
        "\n",
        "\n",
        "\n",
        "\n",
        "\n",
        "\n",
        "\n",
        "\n"
      ]
    }
  ],
  "metadata": {
    "colab": {
      "provenance": []
    },
    "kernelspec": {
      "display_name": "Python 3 (ipykernel)",
      "language": "python",
      "name": "python3"
    },
    "language_info": {
      "codemirror_mode": {
        "name": "ipython",
        "version": 3
      },
      "file_extension": ".py",
      "mimetype": "text/x-python",
      "name": "python",
      "nbconvert_exporter": "python",
      "pygments_lexer": "ipython3",
      "version": "3.9.7"
    },
    "gpuClass": "standard",
    "accelerator": "GPU"
  },
  "nbformat": 4,
  "nbformat_minor": 0
}